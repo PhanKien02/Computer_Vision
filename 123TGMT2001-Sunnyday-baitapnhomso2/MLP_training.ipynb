{
 "cells": [
  {
   "cell_type": "code",
   "execution_count": 1,
   "metadata": {},
   "outputs": [],
   "source": [
    "import tensorflow as tf\n",
    "import numpy as np\n",
    "x_train = np.load(\"./data/X_train.npy\")\n",
    "x_train = x_train.reshape(-1,28,28)\n",
    "y_train = np.load(\"./data/y_train.npy\")\n",
    "x_test = np.load(\"./data/X_test.npy\")\n",
    "x_test = x_test.reshape(-1,28,28)\n"
   ]
  },
  {
   "cell_type": "code",
   "execution_count": 2,
   "metadata": {},
   "outputs": [],
   "source": [
    "# chuyển dữ liệu y_train từ label sang encode\n",
    "# chuyển dữ liệu x_train về khoảng 0 và 1\n",
    "from tensorflow import keras\n",
    "x_train, x_test = x_train/ 255.0, x_test/ 255.0\n",
    "y_train= keras.utils.to_categorical(y_train)"
   ]
  },
  {
   "cell_type": "code",
   "execution_count": 3,
   "metadata": {},
   "outputs": [],
   "source": [
    "#định nghĩa hàm loss\n",
    "loss_fn = tf.keras.losses.CategoricalCrossentropy()\n",
    "# định nghĩa thuật toán tối ưu\n",
    "optimizer = tf.keras.optimizers.Adam(learning_rate=0.001)\n",
    "# xây dựng mô hình\n",
    "def create_model():\n",
    "    model = tf.keras.models.Sequential([\n",
    "    tf.keras.layers.InputLayer(input_shape=(28,28,1)),\n",
    "    tf.keras.layers.Conv2D(10,(3,3),activation=\"relu\"),\n",
    "    tf.keras.layers.MaxPooling2D(pool_size=(2, 2),\n",
    "    strides=(1, 1), padding='valid'),\n",
    "    tf.keras.layers.Flatten(),\n",
    "    tf.keras.layers.Dense(512, activation='relu'),\n",
    "    tf.keras.layers.Dropout(0.3),\n",
    "    tf.keras.layers.Dense(256, activation='mish'),\n",
    "    tf.keras.layers.Dropout(0.2),\n",
    "    tf.keras.layers.Dense(256, activation='mish'),\n",
    "    tf.keras.layers.Dense(10, activation = 'softmax')\n",
    "    ])\n",
    "    model.compile(optimizer=optimizer,\n",
    "    loss=loss_fn,\n",
    "    metrics=['accuracy'])\n",
    "    return model"
   ]
  },
  {
   "cell_type": "code",
   "execution_count": 4,
   "metadata": {},
   "outputs": [
    {
     "name": "stdout",
     "output_type": "stream",
     "text": [
      "Model: \"sequential\"\n",
      "_________________________________________________________________\n",
      " Layer (type)                Output Shape              Param #   \n",
      "=================================================================\n",
      " conv2d (Conv2D)             (None, 26, 26, 10)        100       \n",
      "                                                                 \n",
      " max_pooling2d (MaxPooling2  (None, 25, 25, 10)        0         \n",
      " D)                                                              \n",
      "                                                                 \n",
      " flatten (Flatten)           (None, 6250)              0         \n",
      "                                                                 \n",
      " dense (Dense)               (None, 512)               3200512   \n",
      "                                                                 \n",
      " dropout (Dropout)           (None, 512)               0         \n",
      "                                                                 \n",
      " dense_1 (Dense)             (None, 256)               131328    \n",
      "                                                                 \n",
      " dropout_1 (Dropout)         (None, 256)               0         \n",
      "                                                                 \n",
      " dense_2 (Dense)             (None, 256)               65792     \n",
      "                                                                 \n",
      " dense_3 (Dense)             (None, 10)                2570      \n",
      "                                                                 \n",
      "=================================================================\n",
      "Total params: 3400302 (12.97 MB)\n",
      "Trainable params: 3400302 (12.97 MB)\n",
      "Non-trainable params: 0 (0.00 Byte)\n",
      "_________________________________________________________________\n"
     ]
    }
   ],
   "source": [
    "# tạo mô hình và in ra bảng tổng kết\n",
    "model = create_model()\n",
    "model.summary()"
   ]
  },
  {
   "cell_type": "code",
   "execution_count": 5,
   "metadata": {},
   "outputs": [
    {
     "name": "stdout",
     "output_type": "stream",
     "text": [
      "Epoch 1/50\n",
      "131/132 [============================>.] - ETA: 0s - loss: 0.5807 - accuracy: 0.7890\n",
      "Epoch 1: val_accuracy improved from -inf to 0.85976, saving model to ./weights\\\n",
      "INFO:tensorflow:Assets written to: ./weights\\assets\n"
     ]
    },
    {
     "name": "stderr",
     "output_type": "stream",
     "text": [
      "INFO:tensorflow:Assets written to: ./weights\\assets\n"
     ]
    },
    {
     "name": "stdout",
     "output_type": "stream",
     "text": [
      "132/132 [==============================] - 17s 117ms/step - loss: 0.5804 - accuracy: 0.7892 - val_loss: 0.3793 - val_accuracy: 0.8598 - lr: 0.0010\n",
      "Epoch 2/50\n",
      "132/132 [==============================] - ETA: 0s - loss: 0.3562 - accuracy: 0.8714\n",
      "Epoch 2: val_accuracy improved from 0.85976 to 0.88345, saving model to ./weights\\\n",
      "INFO:tensorflow:Assets written to: ./weights\\assets\n"
     ]
    },
    {
     "name": "stderr",
     "output_type": "stream",
     "text": [
      "INFO:tensorflow:Assets written to: ./weights\\assets\n"
     ]
    },
    {
     "name": "stdout",
     "output_type": "stream",
     "text": [
      "132/132 [==============================] - 14s 109ms/step - loss: 0.3562 - accuracy: 0.8714 - val_loss: 0.3215 - val_accuracy: 0.8835 - lr: 0.0010\n",
      "Epoch 3/50\n",
      "132/132 [==============================] - ETA: 0s - loss: 0.2925 - accuracy: 0.8936\n",
      "Epoch 3: val_accuracy improved from 0.88345 to 0.88679, saving model to ./weights\\\n",
      "INFO:tensorflow:Assets written to: ./weights\\assets\n"
     ]
    },
    {
     "name": "stderr",
     "output_type": "stream",
     "text": [
      "INFO:tensorflow:Assets written to: ./weights\\assets\n"
     ]
    },
    {
     "name": "stdout",
     "output_type": "stream",
     "text": [
      "132/132 [==============================] - 13s 100ms/step - loss: 0.2925 - accuracy: 0.8936 - val_loss: 0.3011 - val_accuracy: 0.8868 - lr: 0.0010\n",
      "Epoch 4/50\n",
      "131/132 [============================>.] - ETA: 0s - loss: 0.2575 - accuracy: 0.9048\n",
      "Epoch 4: val_accuracy improved from 0.88679 to 0.88810, saving model to ./weights\\\n",
      "INFO:tensorflow:Assets written to: ./weights\\assets\n"
     ]
    },
    {
     "name": "stderr",
     "output_type": "stream",
     "text": [
      "INFO:tensorflow:Assets written to: ./weights\\assets\n"
     ]
    },
    {
     "name": "stdout",
     "output_type": "stream",
     "text": [
      "132/132 [==============================] - 14s 103ms/step - loss: 0.2580 - accuracy: 0.9047 - val_loss: 0.3007 - val_accuracy: 0.8881 - lr: 0.0010\n",
      "Epoch 5/50\n",
      "131/132 [============================>.] - ETA: 0s - loss: 0.2321 - accuracy: 0.9142\n",
      "Epoch 5: val_accuracy improved from 0.88810 to 0.89988, saving model to ./weights\\\n",
      "INFO:tensorflow:Assets written to: ./weights\\assets\n"
     ]
    },
    {
     "name": "stderr",
     "output_type": "stream",
     "text": [
      "INFO:tensorflow:Assets written to: ./weights\\assets\n"
     ]
    },
    {
     "name": "stdout",
     "output_type": "stream",
     "text": [
      "132/132 [==============================] - 13s 100ms/step - loss: 0.2320 - accuracy: 0.9142 - val_loss: 0.2703 - val_accuracy: 0.8999 - lr: 0.0010\n",
      "Epoch 6/50\n",
      "131/132 [============================>.] - ETA: 0s - loss: 0.2093 - accuracy: 0.9213\n",
      "Epoch 6: val_accuracy improved from 0.89988 to 0.90357, saving model to ./weights\\\n",
      "INFO:tensorflow:Assets written to: ./weights\\assets\n"
     ]
    },
    {
     "name": "stderr",
     "output_type": "stream",
     "text": [
      "INFO:tensorflow:Assets written to: ./weights\\assets\n"
     ]
    },
    {
     "name": "stdout",
     "output_type": "stream",
     "text": [
      "132/132 [==============================] - 13s 97ms/step - loss: 0.2091 - accuracy: 0.9213 - val_loss: 0.2662 - val_accuracy: 0.9036 - lr: 0.0010\n",
      "Epoch 7/50\n",
      "131/132 [============================>.] - ETA: 0s - loss: 0.1815 - accuracy: 0.9320\n",
      "Epoch 7: val_accuracy improved from 0.90357 to 0.90369, saving model to ./weights\\\n",
      "INFO:tensorflow:Assets written to: ./weights\\assets\n"
     ]
    },
    {
     "name": "stderr",
     "output_type": "stream",
     "text": [
      "INFO:tensorflow:Assets written to: ./weights\\assets\n"
     ]
    },
    {
     "name": "stdout",
     "output_type": "stream",
     "text": [
      "132/132 [==============================] - 13s 96ms/step - loss: 0.1814 - accuracy: 0.9321 - val_loss: 0.2711 - val_accuracy: 0.9037 - lr: 0.0010\n",
      "Epoch 8/50\n",
      "132/132 [==============================] - ETA: 0s - loss: 0.1670 - accuracy: 0.9383\n",
      "Epoch 8: val_accuracy improved from 0.90369 to 0.90786, saving model to ./weights\\\n",
      "INFO:tensorflow:Assets written to: ./weights\\assets\n"
     ]
    },
    {
     "name": "stderr",
     "output_type": "stream",
     "text": [
      "INFO:tensorflow:Assets written to: ./weights\\assets\n"
     ]
    },
    {
     "name": "stdout",
     "output_type": "stream",
     "text": [
      "132/132 [==============================] - 14s 104ms/step - loss: 0.1670 - accuracy: 0.9383 - val_loss: 0.2663 - val_accuracy: 0.9079 - lr: 0.0010\n",
      "Epoch 9/50\n",
      "132/132 [==============================] - ETA: 0s - loss: 0.1546 - accuracy: 0.9408\n",
      "Epoch 9: val_accuracy improved from 0.90786 to 0.90905, saving model to ./weights\\\n",
      "INFO:tensorflow:Assets written to: ./weights\\assets\n"
     ]
    },
    {
     "name": "stderr",
     "output_type": "stream",
     "text": [
      "INFO:tensorflow:Assets written to: ./weights\\assets\n"
     ]
    },
    {
     "name": "stdout",
     "output_type": "stream",
     "text": [
      "132/132 [==============================] - 15s 112ms/step - loss: 0.1546 - accuracy: 0.9408 - val_loss: 0.2756 - val_accuracy: 0.9090 - lr: 0.0010\n",
      "Epoch 10/50\n",
      "132/132 [==============================] - ETA: 0s - loss: 0.1387 - accuracy: 0.9485\n",
      "Epoch 10: val_accuracy did not improve from 0.90905\n",
      "132/132 [==============================] - 13s 101ms/step - loss: 0.1387 - accuracy: 0.9485 - val_loss: 0.2785 - val_accuracy: 0.9079 - lr: 0.0010\n",
      "Epoch 11/50\n",
      "132/132 [==============================] - ETA: 0s - loss: 0.1231 - accuracy: 0.9547\n",
      "Epoch 11: val_accuracy did not improve from 0.90905\n",
      "132/132 [==============================] - 14s 103ms/step - loss: 0.1231 - accuracy: 0.9547 - val_loss: 0.3049 - val_accuracy: 0.9045 - lr: 0.0010\n",
      "Epoch 12/50\n",
      "132/132 [==============================] - ETA: 0s - loss: 0.1157 - accuracy: 0.9573\n",
      "Epoch 12: val_accuracy did not improve from 0.90905\n",
      "132/132 [==============================] - 14s 106ms/step - loss: 0.1157 - accuracy: 0.9573 - val_loss: 0.3086 - val_accuracy: 0.9071 - lr: 0.0010\n",
      "Epoch 13/50\n",
      "132/132 [==============================] - ETA: 0s - loss: 0.1021 - accuracy: 0.9627\n",
      "Epoch 13: val_accuracy did not improve from 0.90905\n",
      "132/132 [==============================] - 13s 102ms/step - loss: 0.1021 - accuracy: 0.9627 - val_loss: 0.3036 - val_accuracy: 0.9075 - lr: 0.0010\n",
      "Epoch 14/50\n",
      "132/132 [==============================] - ETA: 0s - loss: 0.0925 - accuracy: 0.9655\n",
      "Epoch 14: val_accuracy improved from 0.90905 to 0.91107, saving model to ./weights\\\n",
      "INFO:tensorflow:Assets written to: ./weights\\assets\n"
     ]
    },
    {
     "name": "stderr",
     "output_type": "stream",
     "text": [
      "INFO:tensorflow:Assets written to: ./weights\\assets\n"
     ]
    },
    {
     "name": "stdout",
     "output_type": "stream",
     "text": [
      "132/132 [==============================] - 16s 121ms/step - loss: 0.0925 - accuracy: 0.9655 - val_loss: 0.3492 - val_accuracy: 0.9111 - lr: 0.0010\n",
      "Epoch 15/50\n",
      "132/132 [==============================] - ETA: 0s - loss: 0.0850 - accuracy: 0.9687\n",
      "Epoch 15: val_accuracy did not improve from 0.91107\n",
      "132/132 [==============================] - 14s 103ms/step - loss: 0.0850 - accuracy: 0.9687 - val_loss: 0.3613 - val_accuracy: 0.9058 - lr: 0.0010\n",
      "Epoch 16/50\n",
      "132/132 [==============================] - ETA: 0s - loss: 0.0831 - accuracy: 0.9692\n",
      "Epoch 16: val_accuracy did not improve from 0.91107\n",
      "132/132 [==============================] - 13s 100ms/step - loss: 0.0831 - accuracy: 0.9692 - val_loss: 0.3355 - val_accuracy: 0.9076 - lr: 0.0010\n",
      "Epoch 17/50\n",
      "131/132 [============================>.] - ETA: 0s - loss: 0.0794 - accuracy: 0.9706\n",
      "Epoch 17: val_accuracy did not improve from 0.91107\n",
      "132/132 [==============================] - 14s 104ms/step - loss: 0.0794 - accuracy: 0.9706 - val_loss: 0.3523 - val_accuracy: 0.9106 - lr: 0.0010\n",
      "Epoch 18/50\n",
      "131/132 [============================>.] - ETA: 0s - loss: 0.0674 - accuracy: 0.9744\n",
      "Epoch 18: val_accuracy improved from 0.91107 to 0.91274, saving model to ./weights\\\n",
      "INFO:tensorflow:Assets written to: ./weights\\assets\n"
     ]
    },
    {
     "name": "stderr",
     "output_type": "stream",
     "text": [
      "INFO:tensorflow:Assets written to: ./weights\\assets\n"
     ]
    },
    {
     "name": "stdout",
     "output_type": "stream",
     "text": [
      "132/132 [==============================] - 15s 114ms/step - loss: 0.0674 - accuracy: 0.9744 - val_loss: 0.3831 - val_accuracy: 0.9127 - lr: 0.0010\n",
      "Epoch 19/50\n",
      "132/132 [==============================] - ETA: 0s - loss: 0.0555 - accuracy: 0.9803\n",
      "Epoch 19: val_accuracy did not improve from 0.91274\n",
      "132/132 [==============================] - 17s 127ms/step - loss: 0.0555 - accuracy: 0.9803 - val_loss: 0.3969 - val_accuracy: 0.9100 - lr: 0.0010\n",
      "Epoch 20/50\n",
      "132/132 [==============================] - ETA: 0s - loss: 0.0578 - accuracy: 0.9787\n",
      "Epoch 20: val_accuracy did not improve from 0.91274\n",
      "132/132 [==============================] - 15s 112ms/step - loss: 0.0578 - accuracy: 0.9787 - val_loss: 0.4141 - val_accuracy: 0.9068 - lr: 0.0010\n",
      "Epoch 21/50\n",
      "132/132 [==============================] - ETA: 0s - loss: 0.0564 - accuracy: 0.9792\n",
      "Epoch 21: val_accuracy did not improve from 0.91274\n",
      "132/132 [==============================] - 14s 109ms/step - loss: 0.0564 - accuracy: 0.9792 - val_loss: 0.4064 - val_accuracy: 0.9077 - lr: 0.0010\n",
      "Epoch 22/50\n",
      "132/132 [==============================] - ETA: 0s - loss: 0.0492 - accuracy: 0.9825\n",
      "Epoch 22: val_accuracy did not improve from 0.91274\n",
      "132/132 [==============================] - 15s 110ms/step - loss: 0.0492 - accuracy: 0.9825 - val_loss: 0.4281 - val_accuracy: 0.9101 - lr: 0.0010\n",
      "Epoch 23/50\n",
      "132/132 [==============================] - ETA: 0s - loss: 0.0511 - accuracy: 0.9818\n",
      "Epoch 23: val_accuracy did not improve from 0.91274\n",
      "132/132 [==============================] - 15s 114ms/step - loss: 0.0511 - accuracy: 0.9818 - val_loss: 0.4202 - val_accuracy: 0.9124 - lr: 0.0010\n",
      "Epoch 24/50\n",
      "132/132 [==============================] - ETA: 0s - loss: 0.0260 - accuracy: 0.9906\n",
      "Epoch 24: val_accuracy improved from 0.91274 to 0.91560, saving model to ./weights\\\n",
      "INFO:tensorflow:Assets written to: ./weights\\assets\n"
     ]
    },
    {
     "name": "stderr",
     "output_type": "stream",
     "text": [
      "INFO:tensorflow:Assets written to: ./weights\\assets\n"
     ]
    },
    {
     "name": "stdout",
     "output_type": "stream",
     "text": [
      "132/132 [==============================] - 16s 124ms/step - loss: 0.0260 - accuracy: 0.9906 - val_loss: 0.4080 - val_accuracy: 0.9156 - lr: 2.0000e-04\n",
      "Epoch 25/50\n",
      "132/132 [==============================] - ETA: 0s - loss: 0.0179 - accuracy: 0.9942\n",
      "Epoch 25: val_accuracy improved from 0.91560 to 0.91655, saving model to ./weights\\\n",
      "INFO:tensorflow:Assets written to: ./weights\\assets\n"
     ]
    },
    {
     "name": "stderr",
     "output_type": "stream",
     "text": [
      "INFO:tensorflow:Assets written to: ./weights\\assets\n"
     ]
    },
    {
     "name": "stdout",
     "output_type": "stream",
     "text": [
      "132/132 [==============================] - 15s 115ms/step - loss: 0.0179 - accuracy: 0.9942 - val_loss: 0.4280 - val_accuracy: 0.9165 - lr: 2.0000e-04\n",
      "Epoch 26/50\n",
      "132/132 [==============================] - ETA: 0s - loss: 0.0148 - accuracy: 0.9956\n",
      "Epoch 26: val_accuracy did not improve from 0.91655\n",
      "132/132 [==============================] - 15s 111ms/step - loss: 0.0148 - accuracy: 0.9956 - val_loss: 0.4401 - val_accuracy: 0.9157 - lr: 2.0000e-04\n",
      "Epoch 27/50\n",
      "132/132 [==============================] - ETA: 0s - loss: 0.0124 - accuracy: 0.9961\n",
      "Epoch 27: val_accuracy did not improve from 0.91655\n",
      "132/132 [==============================] - 15s 110ms/step - loss: 0.0124 - accuracy: 0.9961 - val_loss: 0.4565 - val_accuracy: 0.9149 - lr: 2.0000e-04\n",
      "Epoch 28/50\n",
      "132/132 [==============================] - ETA: 0s - loss: 0.0121 - accuracy: 0.9963\n",
      "Epoch 28: val_accuracy improved from 0.91655 to 0.91667, saving model to ./weights\\\n",
      "INFO:tensorflow:Assets written to: ./weights\\assets\n"
     ]
    },
    {
     "name": "stderr",
     "output_type": "stream",
     "text": [
      "INFO:tensorflow:Assets written to: ./weights\\assets\n"
     ]
    },
    {
     "name": "stdout",
     "output_type": "stream",
     "text": [
      "132/132 [==============================] - 15s 112ms/step - loss: 0.0121 - accuracy: 0.9963 - val_loss: 0.4658 - val_accuracy: 0.9167 - lr: 2.0000e-04\n",
      "Epoch 29/50\n",
      "131/132 [============================>.] - ETA: 0s - loss: 0.0104 - accuracy: 0.9967\n",
      "Epoch 29: val_accuracy improved from 0.91667 to 0.91679, saving model to ./weights\\\n",
      "INFO:tensorflow:Assets written to: ./weights\\assets\n"
     ]
    },
    {
     "name": "stderr",
     "output_type": "stream",
     "text": [
      "INFO:tensorflow:Assets written to: ./weights\\assets\n"
     ]
    },
    {
     "name": "stdout",
     "output_type": "stream",
     "text": [
      "132/132 [==============================] - 14s 104ms/step - loss: 0.0104 - accuracy: 0.9967 - val_loss: 0.4728 - val_accuracy: 0.9168 - lr: 2.0000e-04\n",
      "Epoch 30/50\n",
      "132/132 [==============================] - ETA: 0s - loss: 0.0107 - accuracy: 0.9968\n",
      "Epoch 30: val_accuracy improved from 0.91679 to 0.91702, saving model to ./weights\\\n",
      "INFO:tensorflow:Assets written to: ./weights\\assets\n"
     ]
    },
    {
     "name": "stderr",
     "output_type": "stream",
     "text": [
      "INFO:tensorflow:Assets written to: ./weights\\assets\n"
     ]
    },
    {
     "name": "stdout",
     "output_type": "stream",
     "text": [
      "132/132 [==============================] - 14s 107ms/step - loss: 0.0107 - accuracy: 0.9968 - val_loss: 0.4777 - val_accuracy: 0.9170 - lr: 2.0000e-04\n",
      "Epoch 31/50\n",
      "132/132 [==============================] - ETA: 0s - loss: 0.0093 - accuracy: 0.9971\n",
      "Epoch 31: val_accuracy did not improve from 0.91702\n",
      "132/132 [==============================] - 13s 97ms/step - loss: 0.0093 - accuracy: 0.9971 - val_loss: 0.5052 - val_accuracy: 0.9149 - lr: 2.0000e-04\n",
      "Epoch 32/50\n",
      "131/132 [============================>.] - ETA: 0s - loss: 0.0093 - accuracy: 0.9971\n",
      "Epoch 32: val_accuracy did not improve from 0.91702\n",
      "132/132 [==============================] - 13s 95ms/step - loss: 0.0093 - accuracy: 0.9971 - val_loss: 0.5048 - val_accuracy: 0.9160 - lr: 2.0000e-04\n",
      "Epoch 33/50\n",
      "132/132 [==============================] - ETA: 0s - loss: 0.0081 - accuracy: 0.9974\n",
      "Epoch 33: val_accuracy did not improve from 0.91702\n",
      "132/132 [==============================] - 13s 97ms/step - loss: 0.0081 - accuracy: 0.9974 - val_loss: 0.5289 - val_accuracy: 0.9148 - lr: 2.0000e-04\n",
      "Epoch 34/50\n",
      "131/132 [============================>.] - ETA: 0s - loss: 0.0080 - accuracy: 0.9976\n",
      "Epoch 34: val_accuracy did not improve from 0.91702\n",
      "132/132 [==============================] - 12s 95ms/step - loss: 0.0080 - accuracy: 0.9976 - val_loss: 0.5282 - val_accuracy: 0.9165 - lr: 2.0000e-04\n",
      "Epoch 35/50\n",
      "131/132 [============================>.] - ETA: 0s - loss: 0.0077 - accuracy: 0.9975\n",
      "Epoch 35: val_accuracy did not improve from 0.91702\n",
      "132/132 [==============================] - 13s 101ms/step - loss: 0.0077 - accuracy: 0.9975 - val_loss: 0.5476 - val_accuracy: 0.9149 - lr: 2.0000e-04\n",
      "Epoch 36/50\n",
      "132/132 [==============================] - ETA: 0s - loss: 0.0072 - accuracy: 0.9976\n",
      "Epoch 36: val_accuracy did not improve from 0.91702\n",
      "132/132 [==============================] - 13s 97ms/step - loss: 0.0072 - accuracy: 0.9976 - val_loss: 0.5463 - val_accuracy: 0.9155 - lr: 4.0000e-05\n",
      "Epoch 37/50\n",
      "131/132 [============================>.] - ETA: 0s - loss: 0.0056 - accuracy: 0.9987\n",
      "Epoch 37: val_accuracy did not improve from 0.91702\n",
      "132/132 [==============================] - 13s 96ms/step - loss: 0.0056 - accuracy: 0.9987 - val_loss: 0.5460 - val_accuracy: 0.9146 - lr: 4.0000e-05\n",
      "Epoch 38/50\n",
      "132/132 [==============================] - ETA: 0s - loss: 0.0060 - accuracy: 0.9983\n",
      "Epoch 38: val_accuracy did not improve from 0.91702\n",
      "132/132 [==============================] - 13s 97ms/step - loss: 0.0060 - accuracy: 0.9983 - val_loss: 0.5457 - val_accuracy: 0.9150 - lr: 4.0000e-05\n",
      "Epoch 39/50\n",
      "131/132 [============================>.] - ETA: 0s - loss: 0.0057 - accuracy: 0.9984\n",
      "Epoch 39: val_accuracy did not improve from 0.91702\n",
      "132/132 [==============================] - 13s 96ms/step - loss: 0.0057 - accuracy: 0.9984 - val_loss: 0.5454 - val_accuracy: 0.9163 - lr: 4.0000e-05\n",
      "Epoch 40/50\n",
      "131/132 [============================>.] - ETA: 0s - loss: 0.0051 - accuracy: 0.9986\n",
      "Epoch 40: val_accuracy did not improve from 0.91702\n",
      "132/132 [==============================] - 13s 96ms/step - loss: 0.0050 - accuracy: 0.9986 - val_loss: 0.5487 - val_accuracy: 0.9154 - lr: 4.0000e-05\n"
     ]
    }
   ],
   "source": [
    "# xây dựng hàm lưu lại mô hình dựa theo loss của tập validation\n",
    "weights_filepath = './weights/'\n",
    "callback = tf.keras.callbacks.ModelCheckpoint( filepath =\n",
    "weights_filepath, monitor='val_accuracy', verbose=1,\n",
    "save_best_only=True, save_weights_only=False)\n",
    "reduce = tf.keras.callbacks.ReduceLROnPlateau(monitor='val_accuracy', factor=0.2,patience=5, min_lr=0.0000001, cooldown=1)\n",
    "early_stop = tf.keras.callbacks.EarlyStopping(monitor='val_accuracy', patience=10)\n",
    "his = model.fit(x_train, y_train, epochs = 50, batch_size = 256,validation_split=0.2, callbacks=[callback,reduce,early_stop])"
   ]
  },
  {
   "cell_type": "code",
   "execution_count": 6,
   "metadata": {},
   "outputs": [],
   "source": [
    "model = create_model()\n",
    "model = tf.keras.models.load_model('./weights/')"
   ]
  },
  {
   "cell_type": "code",
   "execution_count": 7,
   "metadata": {},
   "outputs": [
    {
     "name": "stdout",
     "output_type": "stream",
     "text": [
      "875/875 [==============================] - 9s 10ms/step\n"
     ]
    }
   ],
   "source": [
    "# # lưu test và csv\n",
    "import pandas as pd\n",
    "output = model.predict(x_test)\n",
    "listoutput =np.argmax(output, axis=1)\n",
    "df =pd.DataFrame(data={'label':listoutput})\n",
    "df.to_csv(\"Latest_submission.csv\", index=True, index_label='index')"
   ]
  }
 ],
 "metadata": {
  "kernelspec": {
   "display_name": "computer_vision",
   "language": "python",
   "name": "python3"
  },
  "language_info": {
   "codemirror_mode": {
    "name": "ipython",
    "version": 3
   },
   "file_extension": ".py",
   "mimetype": "text/x-python",
   "name": "python",
   "nbconvert_exporter": "python",
   "pygments_lexer": "ipython3",
   "version": "3.10.13"
  }
 },
 "nbformat": 4,
 "nbformat_minor": 2
}
